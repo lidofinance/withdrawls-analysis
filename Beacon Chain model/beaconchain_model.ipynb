{
 "cells": [
  {
   "cell_type": "markdown",
   "metadata": {
    "collapsed": false,
    "pycharm": {
     "name": "#%% md\n"
    }
   },
   "source": [
    "# Beacon Chain model"
   ]
  },
  {
   "cell_type": "markdown",
   "metadata": {
    "collapsed": false,
    "pycharm": {
     "name": "#%% md\n"
    }
   },
   "source": [
    "Import necessary libraries"
   ]
  },
  {
   "cell_type": "code",
   "execution_count": 2,
   "metadata": {
    "collapsed": false,
    "pycharm": {
     "name": "#%%\n"
    }
   },
   "outputs": [],
   "source": [
    "import pandas as pd\n",
    "import math\n"
   ]
  },
  {
   "cell_type": "markdown",
   "metadata": {
    "collapsed": false,
    "pycharm": {
     "name": "#%% md\n"
    }
   },
   "source": [
    "Setting up global variables from Ethereum specification"
   ]
  },
  {
   "cell_type": "code",
   "execution_count": 3,
   "metadata": {
    "collapsed": false,
    "pycharm": {
     "name": "#%%\n"
    }
   },
   "outputs": [],
   "source": [
    "BASE_REWARD_FACTOR=64*10**9\n",
    "GWEI_DENOMINATOR=10**9\n",
    "TIMELY_SOURCE_WEIGHT=14\n",
    "TIMELY_TARGET_WEIGHT=26\n",
    "TIMELY_HEAD_WEIGHT=14\n",
    "SYNC_REWARD_WEIGHT=2\n",
    "PROPOSER_WEIGHT=8\n",
    "WEIGHT_DENOMINATOR=64\n",
    "EPOCH_IN_DAY=225\n",
    "SLOTS_IN_EPOCH=32\n",
    "SYNC_COMMITTEE_SIZE=512\n",
    "MIN_SLASHING_PENALTY_QUOTIENT_BELLATRIX=1/32\n",
    "MAX_PROPOSER_SLASHINGS_PER_BLOCK=16\n",
    "MAX_ATTESTER_SLASHINGS=2\n",
    "PROPORTIONAL_SLASHING_MULTIPLIER=3\n",
    "EPOCHS_PER_SLASHINGS_VECTOR=8192\n",
    "INACTIVITY_PENALTY_QUOTIENT_BELLATRIX=2**24\n",
    "INACTIVITY_SCORE_BIAS=4"
   ]
  },
  {
   "cell_type": "markdown",
   "metadata": {
    "collapsed": false,
    "pycharm": {
     "name": "#%% md\n"
    }
   },
   "source": [
    "Defining necessary functions\n",
    "\n",
    "*All formulas are taken from Ethereum specification*"
   ]
  },
  {
   "cell_type": "code",
   "execution_count": 4,
   "metadata": {
    "collapsed": false,
    "pycharm": {
     "name": "#%%\n"
    }
   },
   "outputs": [],
   "source": [
    "#Main modelling functions\n",
    "def calculate_lido_attestation_rewards_penalties(base_reward,lido_avg_effective_balance,lido_down_vals,lido_vals,other_down_vals,other_avg_effective_balance,total_effective_balance):\n",
    "    '''\n",
    "    Calculate amount of attestation rewards and penalties within one oracle report.\n",
    "    Return dictionary in the following format:\n",
    "\n",
    "    {'rewards':X,\n",
    "    'penalties':Y,\n",
    "    'penalty':Z}\n",
    "\n",
    "    Value of single penalty is needed for technical reasons and used in another functions'''\n",
    "    assert lido_down_vals<=lido_vals, 'Amount of down vals higher than amount of vals'\n",
    "    scaling_coef=1-(lido_down_vals*lido_avg_effective_balance+other_down_vals*other_avg_effective_balance)/total_effective_balance\n",
    "    attestation_result={}\n",
    "    increments=lido_avg_effective_balance//GWEI_DENOMINATOR\n",
    "    lido_down_share=lido_down_vals/lido_vals\n",
    "    attestation_result['rewards']=(TIMELY_SOURCE_WEIGHT+TIMELY_TARGET_WEIGHT+TIMELY_HEAD_WEIGHT)/WEIGHT_DENOMINATOR*increments*base_reward*(1-lido_down_share)*scaling_coef*lido_vals*EPOCH_IN_DAY\n",
    "    attestation_result['penalties']=(TIMELY_SOURCE_WEIGHT+TIMELY_TARGET_WEIGHT)/WEIGHT_DENOMINATOR*increments*base_reward*lido_down_share*lido_vals*EPOCH_IN_DAY\n",
    "    attestation_result['penalty']=(TIMELY_SOURCE_WEIGHT+TIMELY_TARGET_WEIGHT)/WEIGHT_DENOMINATOR*increments*base_reward\n",
    "    return attestation_result\n",
    "\n",
    "def calculate_proposer_reward(base_reward,total_vals,avg_effective_balance):\n",
    "    '''\n",
    "    Calculate single proposer reward both  for block proposal and for proposal due to sync committee contribution\n",
    "    '''\n",
    "    increments=avg_effective_balance//GWEI_DENOMINATOR\n",
    "    reward_for_proposal=((total_vals/SLOTS_IN_EPOCH)*(PROPOSER_WEIGHT/(WEIGHT_DENOMINATOR-PROPOSER_WEIGHT))*(TIMELY_SOURCE_WEIGHT+TIMELY_TARGET_WEIGHT+TIMELY_HEAD_WEIGHT)/WEIGHT_DENOMINATOR*increments*base_reward)//1\n",
    "    sync_committee_per_epoch=SYNC_REWARD_WEIGHT/(WEIGHT_DENOMINATOR*SLOTS_IN_EPOCH)*total_vals*increments*base_reward\n",
    "    reward_for_sync_committee_proposal=sync_committee_per_epoch*(PROPOSER_WEIGHT/(WEIGHT_DENOMINATOR-PROPOSER_WEIGHT))//1\n",
    "    return reward_for_proposal+reward_for_sync_committee_proposal\n",
    "\n",
    "def calculate_sync_committee_rewards_penalties(base_reward,total_vals,avg_effective_balance,lido_vals,lido_down_vals):\n",
    "    '''\n",
    "    Calculate amount of rewards and penalties obtained due to sync committee participation.\n",
    "    Return dictionary in the following format:\n",
    "\n",
    "    {'rewards':X,\n",
    "    'penalties':Y,\n",
    "    'single_per_epoch':Z}\n",
    "\n",
    "    Value of single reward for sync committee participation is needed for technical reasons and used in another functions\n",
    "    '''\n",
    "    assert lido_down_vals<=lido_vals, 'Amount of down vals higher than amount of vals'\n",
    "    increments=avg_effective_balance//GWEI_DENOMINATOR\n",
    "    sync_comittee_per_epoch=SYNC_REWARD_WEIGHT/WEIGHT_DENOMINATOR*total_vals*increments*base_reward\n",
    "    lido_share=lido_vals/total_vals\n",
    "    sync_result={}\n",
    "    sync_result['rewards']=sync_comittee_per_epoch*EPOCH_IN_DAY*lido_share*(1-lido_down_vals/lido_vals)\n",
    "    sync_result['penalties']=sync_comittee_per_epoch*EPOCH_IN_DAY*lido_share*lido_down_vals/lido_vals\n",
    "    sync_result['single_per_epoch']=sync_comittee_per_epoch/SYNC_COMMITTEE_SIZE\n",
    "    return sync_result\n",
    "\n",
    "\n",
    "def calculate_rewards_for_proposal(proposer_reward,lido_vals,total_vals,lido_down_vals):\n",
    "    '''\n",
    "    Knowing current reward for proposal calculates how many GWEI will be earned as a proposal rewards within one oracle report.\n",
    "    Amount of rewards is taken as Lido share among all validators multiplied by all proposal rewards for one oracle report period multiplied by\n",
    "    share of Lido active validators\n",
    "    '''\n",
    "    total_proposer_rewards=proposer_reward*SLOTS_IN_EPOCH*EPOCH_IN_DAY\n",
    "    lido_share=lido_vals/total_vals\n",
    "    down_coef=1-lido_down_vals/lido_vals\n",
    "    return total_proposer_rewards*lido_share*down_coef\n",
    "\n",
    "def calculate_el_rewards(median_el_reward,lido_vals,lido_down_vals,total_vals):\n",
    "   '''\n",
    "   Knowing current median EL reward per block  calculates how many GWEI will be earned as a EL rewards within one oracle report.\n",
    "   Amount of rewards is taken as Lido share among all validators multiplied by all EL rewards for one oracle report period multiplied by\n",
    "   share of Lido active validators\n",
    "   As a default we assume that EL rewards equal 0\n",
    "   '''\n",
    "\n",
    "   total_el_reward=median_el_reward*SLOTS_IN_EPOCH*EPOCH_IN_DAY\n",
    "   lido_share=lido_vals/total_vals\n",
    "   down_coef=1-lido_down_vals/lido_vals\n",
    "   return total_el_reward*lido_share*down_coef\n",
    "\n",
    "def calculate_initial_slashing(lido_avg_balance,new_lido_slashings):\n",
    "    '''\n",
    "    Calculate how many GWEI would be loosed due to initial slashing penalties which happened within oracle report\n",
    "    '''\n",
    "    assert new_lido_slashings<=(MAX_PROPOSER_SLASHINGS_PER_BLOCK+MAX_ATTESTER_SLASHINGS)*SLOTS_IN_EPOCH*EPOCH_IN_DAY,'Amount of slashed validators cannot be processed within 1 day'\n",
    "    return lido_avg_balance*MIN_SLASHING_PENALTY_QUOTIENT_BELLATRIX*new_lido_slashings\n",
    "\n",
    "def calculate_correlation_slashing(midterm_lido_slashings,network_effective_balance,total_slashed_vals,network_avg_effective_balance,lido_avg_effective_balance):\n",
    "    '''\n",
    "    Knowing amount of ongoing slashing in the network and amount of Lido validators which would receive midterm slashing penalty calculates how many GWEi would be lost because of midterm slashing\n",
    "    '''\n",
    "    assert midterm_lido_slashings<=total_slashed_vals, 'Midterm slashed amount higher than total slashed amount'\n",
    "    lido_avg_effective_balance-=lido_avg_effective_balance*MIN_SLASHING_PENALTY_QUOTIENT_BELLATRIX\n",
    "    slashed_increments=total_slashed_vals*(network_avg_effective_balance//GWEI_DENOMINATOR)\n",
    "    correlation_slashing=min(lido_avg_effective_balance,PROPORTIONAL_SLASHING_MULTIPLIER*lido_avg_effective_balance*slashed_increments/(network_effective_balance//GWEI_DENOMINATOR))\n",
    "    return midterm_lido_slashings*correlation_slashing\n",
    "\n",
    "def calculate_inactivity_leak_penalty(lido_avg_balance,other_avg_balance,epoch_in_inactivity_leak):\n",
    "    '''\n",
    "    Calculate value of inactivity leak penalty both for Lido and other validators for one epoch\n",
    "    Return result as a dictionary:\n",
    "\n",
    "    {'penalty_lido':X,\n",
    "    'penalty_others:Y}\n",
    "\n",
    "    '''\n",
    "    score=INACTIVITY_SCORE_BIAS*epoch_in_inactivity_leak\n",
    "    inactivity_penalty={}\n",
    "    inactivity_penalty['penalty_lido']=(score*lido_avg_balance)/(INACTIVITY_SCORE_BIAS*INACTIVITY_PENALTY_QUOTIENT_BELLATRIX)//1\n",
    "    inactivity_penalty['penalty_others']=(score*other_avg_balance)/(INACTIVITY_SCORE_BIAS*INACTIVITY_PENALTY_QUOTIENT_BELLATRIX)//1\n",
    "    return inactivity_penalty\n",
    "\n",
    "def calculate_inactivity_leak(base_reward,sync_committee_penalty,total_vals,lido_down_vals,other_down_vals,network_effective_balance,lido_avg_real_balance,other_avg_real_balance,lido_avg_effective_balance,other_avg_effective_balance,epoch_in_inactivity):\n",
    "    '''\n",
    "    Simulate impact of inactivity leak, unlike other functions calculate result for each epoch. Return dictionary which could be devided into 2 logical parts:\n",
    "    Oracle data - info needed for oracle report (total_penalty and total_epochs)\n",
    "    Technical data - info needed for calculation of inactivity leak impact in future reports\n",
    "    '''\n",
    "\n",
    "    epoch_in_inactivity+=1\n",
    "    total_down_balance=lido_down_vals*lido_avg_effective_balance+other_down_vals*other_avg_effective_balance\n",
    "    total_active_balance=network_effective_balance-total_down_balance\n",
    "    amount_of_sync_commettee_vals=get_probability_outcomes(lido_down_vals, total_vals)#get most probable amount of lido down validators which would be assigned to sync committee\n",
    "    inactivity_leak_result={}  #we calculate impact only for one oracle epochs, info about previous inactivity leak impact is passed as epoch_in_inactivity parameter\n",
    "    inactivity_leak_result['attestation_penalty']=0\n",
    "    inactivity_leak_result['inactivity_penalty']=0\n",
    "    inactivity_leak_result['total_penalty']=inactivity_leak_result['attestation_penalty']+inactivity_leak_result['inactivity_penalty']\n",
    "\n",
    "\n",
    "    while total_active_balance/network_effective_balance <0.6666666 and  epoch_in_inactivity%EPOCH_IN_DAY!=0:\n",
    "        #adjust effective balance to real balance\n",
    "        if lido_avg_real_balance<lido_avg_effective_balance:\n",
    "            lido_avg_effective_balance=(lido_avg_real_balance+0.25*GWEI_DENOMINATOR)//GWEI_DENOMINATOR*GWEI_DENOMINATOR\n",
    "        if other_avg_real_balance<other_avg_effective_balance:\n",
    "            other_avg_effective_balance=(other_avg_real_balance+0.25*GWEI_DENOMINATOR)//GWEI_DENOMINATOR*GWEI_DENOMINATOR\n",
    "\n",
    "        #Calculate impact of imactivity leak\n",
    "        inactivity_penalty=calculate_inactivity_leak_penalty(lido_avg_balance=lido_avg_effective_balance,other_avg_balance=other_avg_effective_balance,epoch_in_inactivity_leak=epoch_in_inactivity)\n",
    "        lido_increments=(lido_avg_effective_balance+0.25*GWEI_DENOMINATOR)//GWEI_DENOMINATOR\n",
    "        other_increments=(other_avg_effective_balance+0.25*GWEI_DENOMINATOR)//GWEI_DENOMINATOR\n",
    "        lido_attestation_penalty=(TIMELY_SOURCE_WEIGHT+TIMELY_TARGET_WEIGHT)/WEIGHT_DENOMINATOR*lido_increments*base_reward\n",
    "        other_attestation_penalty=(TIMELY_SOURCE_WEIGHT+TIMELY_TARGET_WEIGHT)/WEIGHT_DENOMINATOR*other_increments*base_reward\n",
    "        inactivity_leak_result['inactivity_penalty'] +=inactivity_penalty['penalty_lido']*lido_down_vals/GWEI_DENOMINATOR\n",
    "        inactivity_leak_result['attestation_penalty'] +=(lido_attestation_penalty*lido_down_vals+ sync_committee_penalty*amount_of_sync_commettee_vals)/GWEI_DENOMINATOR\n",
    "        lido_avg_real_balance -=inactivity_penalty['penalty_lido']+lido_attestation_penalty\n",
    "        other_avg_real_balance -=inactivity_penalty['penalty_others']+other_attestation_penalty\n",
    "        total_decrease=lido_attestation_penalty*lido_down_vals+other_attestation_penalty*other_down_vals+inactivity_penalty['penalty_lido']*lido_down_vals+inactivity_penalty['penalty_others']*other_down_vals\n",
    "        network_effective_balance -=total_decrease\n",
    "        epoch_in_inactivity+=1\n",
    "\n",
    "    #gather all info into final dictionary\n",
    "    inactivity_leak_result['total_penalty']=inactivity_leak_result['attestation_penalty']+inactivity_leak_result['inactivity_penalty']\n",
    "    inactivity_leak_result['total_epochs']=epoch_in_inactivity\n",
    "    inactivity_leak_result['epoch_this_day']=inactivity_leak_result['total_epochs']-EPOCH_IN_DAY\n",
    "    if inactivity_leak_result['epoch_this_day'] <=0:\n",
    "        inactivity_leak_result['epoch_this_day']=EPOCH_IN_DAY\n",
    "    inactivity_leak_result['network_effective_balance']=network_effective_balance/GWEI_DENOMINATOR\n",
    "    inactivity_leak_result['lido_avg_real_balance']=lido_avg_real_balance\n",
    "    inactivity_leak_result['other_avg_real_balance']=other_avg_real_balance\n",
    "    inactivity_leak_result['lido_avg_effective_balance']=lido_avg_effective_balance\n",
    "    inactivity_leak_result['other_avg_effective_balance']=other_avg_effective_balance\n",
    "    return inactivity_leak_result\n",
    "\n",
    "\n",
    "\n",
    "def calculate_oracle_report_flow(lido_down_vals,other_down_vals,lido_new_slashing,lido_ongoing_slashing,lido_midterm_slashing,other_ongoing_slashing,network_state,epoch_in_inactivity):\n",
    "    '''\n",
    "    Main function of model. Gather all variables which describe network state and events which happened in Beacon Chain and with other functions generate report for oracle.\n",
    "    '''\n",
    "    #in this block we obtain value of variables which is needed for final calculations\n",
    "    total_vals=get_total_amount_vals(lido_vals=network_state['lido_vals'],other_vals=network_state['other_vals'])\n",
    "    network_effective_balance=calculate_network_effective_balance(lido_avg_effective_balance=network_state['lido_avg_effective_balance'],lido_vals=network_state['lido_vals'],other_avg_effective_balance=network_state['other_avg_effective_balance'],other_vals=network_state['other_vals'])\n",
    "    network_avg_effective_balance=calculate_network_avg_effective_balance(total_vals=total_vals,total_balance=network_effective_balance)\n",
    "    base_reward=calculate_base_reward(network_effective_balance)\n",
    "    proposer_reward=calculate_proposer_reward(base_reward=base_reward,total_vals=total_vals,avg_effective_balance=network_avg_effective_balance)\n",
    "    total_lido_down_vals=lido_down_vals+lido_new_slashing+lido_ongoing_slashing+lido_midterm_slashing\n",
    "    total_other_down_vals=other_down_vals+other_ongoing_slashing\n",
    "    total_down_balance= total_lido_down_vals*network_state['lido_avg_effective_balance']+other_down_vals*network_state['other_avg_effective_balance']\n",
    "    total_slashed_vals=lido_new_slashing+lido_ongoing_slashing+lido_midterm_slashing+other_ongoing_slashing\n",
    "    total_active_balance=network_effective_balance-total_down_balance\n",
    "\n",
    "    #by default inactivity leak mode is disabled\n",
    "    inactivity_leak=False\n",
    "\n",
    "\n",
    "    #final calculations\n",
    "    attest_result=calculate_lido_attestation_rewards_penalties(base_reward=base_reward,lido_avg_effective_balance=network_state['lido_avg_effective_balance'],lido_down_vals=total_lido_down_vals,lido_vals=network_state['lido_vals'],other_down_vals=total_other_down_vals,other_avg_effective_balance=network_state['other_avg_effective_balance'],total_effective_balance=network_effective_balance)\n",
    "    proposal_rewards=calculate_rewards_for_proposal(proposer_reward=proposer_reward,lido_vals=network_state['lido_vals'],total_vals=total_vals,lido_down_vals=total_lido_down_vals)\n",
    "    sync_committee_result=calculate_sync_committee_rewards_penalties(base_reward=base_reward,total_vals=total_vals,avg_effective_balance=network_avg_effective_balance,lido_vals=network_state['lido_vals'],lido_down_vals=total_lido_down_vals)\n",
    "    el_rewards=calculate_el_rewards(median_el_reward=network_state['median_EL_reward'],lido_vals=network_state['lido_vals'],lido_down_vals=total_lido_down_vals,total_vals=total_vals)\n",
    "    initial_penalties=calculate_initial_slashing(lido_avg_balance=network_state['lido_avg_effective_balance'],new_lido_slashings=lido_new_slashing)\n",
    "    correlation_slashings=calculate_correlation_slashing(midterm_lido_slashings=lido_midterm_slashing,network_effective_balance=network_effective_balance,total_slashed_vals= total_slashed_vals,network_avg_effective_balance= network_avg_effective_balance,lido_avg_effective_balance=network_state['lido_avg_effective_balance'])\n",
    "\n",
    "    #If more than 1/3 of network is down Beacon Chain enters inactivity leak mode\n",
    "    if total_active_balance/network_effective_balance<0.6666666:\n",
    "        inactivity_leak=True\n",
    "        inactivity_leak_result=calculate_inactivity_leak(base_reward=base_reward,sync_committee_penalty=sync_committee_result['single_per_epoch'],total_vals=total_vals,lido_down_vals=total_lido_down_vals,other_down_vals=other_down_vals,network_effective_balance=network_effective_balance,lido_avg_real_balance=network_state['lido_avg_real_balance'],other_avg_real_balance=network_state['other_avg_real_balance'], lido_avg_effective_balance=network_state['lido_avg_effective_balance'],other_avg_effective_balance=network_state['lido_avg_effective_balance'],epoch_in_inactivity=epoch_in_inactivity)\n",
    "\n",
    "\n",
    "\n",
    "    #create oracle report\n",
    "    oracle_report={}\n",
    "\n",
    "    oracle_report['attestation_rewards']=attest_result['rewards']/GWEI_DENOMINATOR\n",
    "    oracle_report['attestation_penalties']=attest_result['penalties']/GWEI_DENOMINATOR\n",
    "    oracle_report['proposal_reward']=proposal_rewards/GWEI_DENOMINATOR\n",
    "    oracle_report['sync_committee_reward']=sync_committee_result['rewards']/GWEI_DENOMINATOR\n",
    "    oracle_report['sync_committee_penalty']=sync_committee_result['penalties']/GWEI_DENOMINATOR\n",
    "    oracle_report['initial_slashing_penalties']=initial_penalties/GWEI_DENOMINATOR\n",
    "    oracle_report['correlation_slashing_penalties']=correlation_slashings/GWEI_DENOMINATOR\n",
    "    oracle_report['total_att_loss_for_new_slashing']=attest_result['penalty']*lido_new_slashing*EPOCHS_PER_SLASHINGS_VECTOR/GWEI_DENOMINATOR\n",
    "    oracle_report['inactivity_leak_penalty']=0\n",
    "    oracle_report['epoch_in_inactivity']=0\n",
    "    oracle_report['el_rewards']=el_rewards/GWEI_DENOMINATOR\n",
    "    if inactivity_leak:\n",
    "        oracle_report['attestation_rewards']=0\n",
    "        oracle_report['attestation_penalties']=inactivity_leak_result['attestation_penalty']\n",
    "        oracle_report['inactivity_leak_penalty']=inactivity_leak_result['inactivity_penalty']\n",
    "        oracle_report['epoch_in_inactivity']=inactivity_leak_result['total_epochs']\n",
    "        oracle_report['el_rewards']=0\n",
    "    oracle_report['cl_rewards']=oracle_report['attestation_rewards']+oracle_report['proposal_reward']+oracle_report['sync_committee_reward']\n",
    "    oracle_report['total_rewards']=oracle_report['cl_rewards']+oracle_report['el_rewards']\n",
    "    oracle_report['total_penalties']=oracle_report['attestation_penalties']+oracle_report['sync_committee_penalty']+oracle_report['initial_slashing_penalties']+oracle_report['correlation_slashing_penalties']+oracle_report['inactivity_leak_penalty']\n",
    "    oracle_report['total_delta']=oracle_report['total_rewards']-oracle_report['total_penalties']\n",
    "\n",
    "    return oracle_report\n",
    "\n",
    "#Wrappers for different scenarios modelling\n",
    "def get_edge_slashing(network_state):\n",
    "    '''\n",
    "    With given network state calculate how many lido validators should be slashed within one oracle report in order to receive negative rebase\n",
    "    '''\n",
    "    delta=1\n",
    "    slashed=1\n",
    "    while delta>0 and slashed<200000:\n",
    "        result=calculate_oracle_report_flow(lido_down_vals=0,other_down_vals=0,lido_new_slashing=slashed,lido_ongoing_slashing=0,lido_midterm_slashing=0,other_ongoing_slashing=0,network_state=network_state,epoch_in_inactivity=0)\n",
    "        delta=result['total_delta']\n",
    "        slashed+=1\n",
    "    return slashed\n",
    "\n",
    "def get_edge_down(network_state):\n",
    "    '''\n",
    "    With given network state calculate how many lido validators should be inactive within one oracle report  in order to receive negative rebase\n",
    "    '''\n",
    "    delta=1\n",
    "    down=1\n",
    "    while delta>0 and down<200000:\n",
    "        result=calculate_oracle_report_flow(lido_down_vals=down,other_down_vals=0,lido_new_slashing=0,lido_ongoing_slashing=0,lido_midterm_slashing=0,other_ongoing_slashing=0,network_state=network_state,epoch_in_inactivity=0)\n",
    "        delta=result['total_delta']\n",
    "        down+=1\n",
    "    return down\n",
    "\n",
    "\n",
    "def get_edge_midterm(network_state):\n",
    "    '''\n",
    "    With given network state calculates how many Lido validators should receive midterm slashing penalty in order to receive negative rebase.\n",
    "    Return result as a dictionary with minimum Lido validators (and accordingly maximum other validators) and vice versa (maximum Lido and minimum others) in order to receive negative rebase\n",
    "    '''\n",
    "    cases=[]\n",
    "    result=[]\n",
    "    max_slashed=get_edge_slashing(network_state)\n",
    "\n",
    "    for lido_slashed in range(0,max_slashed,1):\n",
    "        for lido_midterm_slashed in range(0,200000,100):\n",
    "                delta=calculate_oracle_report_flow(lido_down_vals=0,other_down_vals=0,lido_new_slashing=0,lido_ongoing_slashing=0,lido_midterm_slashing=lido_slashed,other_ongoing_slashing=lido_midterm_slashed,network_state=network_state,epoch_in_inactivity=0)\n",
    "                if delta['total_delta']<0:\n",
    "                    row={}\n",
    "                    row['lido_midterm_slashed']=lido_slashed\n",
    "                    row['other_slashed']=lido_midterm_slashed\n",
    "                    cases.append(row)\n",
    "                    break\n",
    "\n",
    "\n",
    "    midterm_slashed=pd.DataFrame(cases)\n",
    "    lido_min={'lido':midterm_slashed[midterm_slashed['lido_midterm_slashed']==midterm_slashed['lido_midterm_slashed'].min()].iloc[0,0],\n",
    "              'other':midterm_slashed[midterm_slashed['lido_midterm_slashed']==midterm_slashed['lido_midterm_slashed'].min()].iloc[0,1]}\n",
    "    lido_max={'lido':midterm_slashed[midterm_slashed['other_slashed'] == midterm_slashed['other_slashed'].min()].sort_values(\n",
    "    by='lido_midterm_slashed').iloc[0,0],\n",
    "              'other':midterm_slashed[midterm_slashed['other_slashed'] == midterm_slashed['other_slashed'].min()].sort_values(\n",
    "    by='lido_midterm_slashed').iloc[0,1]}\n",
    "\n",
    "    result.append(lido_min)\n",
    "    result.append(lido_max)\n",
    "    return result\n",
    "\n",
    "def get_midterm_freeze_other(network_scenario,other_slashed):\n",
    "    '''\n",
    "    Needed for specific scenarios calculation. Answer the question 'With given amount of ongoing slashings, how many Lido validators should receive midterm slashing penalty\n",
    "    in order to receive negative rebase?'\n",
    "     '''\n",
    "    delta=1\n",
    "    slashed=1\n",
    "    while delta>0 and slashed<200000:\n",
    "        result=calculate_oracle_report_flow(lido_down_vals=0,other_down_vals=0,lido_new_slashing=0,lido_ongoing_slashing=0,lido_midterm_slashing=slashed,other_ongoing_slashing=other_slashed,network_state=network_scenario,epoch_in_inactivity=0)\n",
    "        delta=result['total_delta']\n",
    "        slashed+=1\n",
    "    return slashed\n",
    "\n",
    "\n",
    "def get_midterm_freeze_lido(network_scenario,lido_slashed):\n",
    "    '''\n",
    "    Needed for specific scenarios calculation. Answer the question 'With given amount of Lido validators which receive midterm slashing penalty how many ongoing slashings should be in beacon Chain  in order to receive negative rebase?'\n",
    "    '''\n",
    "    delta=1\n",
    "    slashed=1\n",
    "    while delta>0 and slashed<200000:\n",
    "        result=calculate_oracle_report_flow(lido_down_vals=0,other_down_vals=0,lido_new_slashing=0,lido_ongoing_slashing=0,lido_midterm_slashing=lido_slashed,other_ongoing_slashing=slashed,network_state=network_scenario,epoch_in_inactivity=0)\n",
    "        delta=result['total_delta']\n",
    "        slashed+=1\n",
    "    return slashed\n",
    "\n",
    "\n",
    "def simulate_scenarios(network_scenarios):\n",
    "    '''\n",
    "    Find edge cases (amount of slashings, lido down validators, amount of midterm slashings) for any specified network scenario\n",
    "    '''\n",
    "    result={}\n",
    "    for x in range(len(network_scenarios)):\n",
    "        single_result={}\n",
    "        single_result['slashed']=get_edge_slashing(network_scenarios[x])\n",
    "        single_result['lido_down']=get_edge_down(network_scenarios[x])\n",
    "        midterm=get_edge_midterm(network_scenarios[x])\n",
    "        single_result['non_Lido_slashing_Lido_min']=midterm[0]\n",
    "        single_result['non_Lido_slashing_Lido_max']=midterm[1]\n",
    "        result[network_scenarios[x]['name']]=single_result\n",
    "\n",
    "    return result\n",
    "\n",
    "def simulate_scenarios_with_freeze(network_scenario,lido_slashed,other_slashed):\n",
    "    '''\n",
    "    Find edge cases (amount of slashings, lido down validators, amount of midterm slashings) for all specified network scenario  and amount of lido slashed validators/ ongoing slashings\n",
    "    '''\n",
    "    result={}\n",
    "    result['slashed']=get_edge_slashing(network_scenario)\n",
    "    result['lido_down']=get_edge_down(network_scenario)\n",
    "    result['non_Lido_slashing_Lido_min']=get_midterm_freeze_other(network_scenario,other_slashed)\n",
    "    result['non_Lido_slashing_Lido_max']=get_midterm_freeze_lido(network_scenario,lido_slashed)\n",
    "\n",
    "\n",
    "    return result\n",
    "\n",
    "def get_scenarios_EL_change(network_scenarios,el_reward):\n",
    "  '''\n",
    "  Find edge cases for all specified scenarios with custom EL reward\n",
    "  '''\n",
    "  scenarios_to_change=[]\n",
    "  for x in range(len(network_scenarios)):\n",
    "    scenarios_to_change.append(network_scenarios[x].copy())\n",
    "    scenarios_to_change[x]['median_EL_reward']= el_reward\n",
    "\n",
    "  result=simulate_scenarios(scenarios_to_change)\n",
    "  return result\n",
    "\n",
    "def get_scenarios_EL_change_with_freeze(network_scenario,el_reward,lido_slashed,other_slashed):\n",
    "  '''\n",
    "  Find edge cases for all specified scenarios with custom EL reward and amount of lido slashed validators/ ongoing slashings\n",
    "  '''\n",
    "  scenario_to_change=network_scenario.copy()\n",
    "  scenario_to_change['median_EL_reward']=el_reward\n",
    "\n",
    "  result=simulate_scenarios_with_freeze(scenario_to_change,lido_slashed,other_slashed)\n",
    "  return result\n",
    "\n",
    "#Helpers\n",
    "def get_total_amount_vals(lido_vals,other_vals):\n",
    "    return lido_vals+other_vals\n",
    "\n",
    "def calculate_network_effective_balance(lido_avg_effective_balance,lido_vals,other_avg_effective_balance,other_vals):\n",
    "    return lido_avg_effective_balance*lido_vals+other_avg_effective_balance*other_vals\n",
    "\n",
    "def calculate_network_avg_effective_balance(total_vals,total_balance):\n",
    "    return round((total_balance//GWEI_DENOMINATOR)/total_vals)*GWEI_DENOMINATOR\n",
    "\n",
    "def calculate_base_reward(network_effective_balance):\n",
    "    return (BASE_REWARD_FACTOR/math.sqrt(network_effective_balance))//1\n",
    "\n",
    "def total_slashed_vals(new_lido_slashings,midterm_lido_slashings,ongoing_lido_slashings,ongoing_other_slashing):\n",
    "    return new_lido_slashings+midterm_lido_slashings+ongoing_lido_slashings+ongoing_other_slashing\n",
    "\n",
    "def c(n, k):   # helper for large numbers binomial coefficient calculation\n",
    "    if 0 <= k <= n:\n",
    "        nn = 1\n",
    "        kk = 1\n",
    "        for t in range(1, min(k, n - k) + 1):\n",
    "\n",
    "            nn *= n\n",
    "            kk *= t\n",
    "            n -= 1\n",
    "        return nn // kk\n",
    "    else:\n",
    "        return 0\n",
    "\n",
    "def get_probability_outcomes(down_vals,total_vals):\n",
    "    outcome = []\n",
    "    for offline_validator_sync_cnt in range(1, SYNC_COMMITTEE_SIZE+1):\n",
    "        outcome.append(c(int(down_vals), offline_validator_sync_cnt)*c(int(total_vals-down_vals),SYNC_COMMITTEE_SIZE-offline_validator_sync_cnt)/c(int(total_vals),SYNC_COMMITTEE_SIZE))\n",
    "\n",
    "    df_outcome = pd.DataFrame(pd.Series(outcome), columns=['outcome'])\n",
    "\n",
    "    return df_outcome.index[df_outcome['outcome'].idxmax()]"
   ]
  },
  {
   "cell_type": "markdown",
   "metadata": {
    "collapsed": false,
    "pycharm": {
     "name": "#%% md\n"
    }
   },
   "source": [
    "Predicted network state, you can add you own state in following format:"
   ]
  },
  {
   "cell_type": "markdown",
   "metadata": {
    "collapsed": false,
    "pycharm": {
     "name": "#%% md\n"
    }
   },
   "source": [
    "{'name': scenario name,\n",
    "'lido_vals':amount of Lido validators,\n",
    "'other_vals':amount of Other validators,\n",
    "'lido_avg_effective_balance':Lido validator average effective balance,\n",
    "'other_avg_effective_balance':Other validators average effective balance,\n",
    "'lido_avg_real_balance':Lido validator average real balance,\n",
    "'other_avg_real_balance':Other validator average real balance,\n",
    "'median_EL_reward': median EL reward per block\n",
    "}"
   ]
  },
  {
   "cell_type": "code",
   "execution_count": 7,
   "metadata": {
    "collapsed": false,
    "pycharm": {
     "name": "#%%\n"
    }
   },
   "outputs": [],
   "source": [
    "network_scenarios=[{\n",
    "    'name':'expected',\n",
    "    'lido_vals':149950,\n",
    "    'other_vals':373639,\n",
    "    'lido_avg_effective_balance':32*10**9,\n",
    "    'other_avg_effective_balance':32*10**9,\n",
    "    'lido_avg_real_balance':32*10**9,\n",
    "    'other_avg_real_balance':32*10**9,\n",
    "    'median_EL_reward': 0\n",
    "    },\n",
    "    {\n",
    "    'name':'extreme_growth',\n",
    "    'lido_vals':148435,\n",
    "    'other_vals':516900,\n",
    "    'lido_avg_effective_balance':32*10**9,\n",
    "    'other_avg_effective_balance':32*10**9,\n",
    "    'lido_avg_real_balance':32*10**9,\n",
    "    'other_avg_real_balance':32*10**9,\n",
    "    'median_EL_reward': 0\n",
    "    },\n",
    "    {\n",
    "    'name':'extreme_stagnation',\n",
    "    'lido_vals':144858,\n",
    "    'other_vals':350152,\n",
    "    'lido_avg_effective_balance':32*10**9,\n",
    "    'other_avg_effective_balance':32*10**9,\n",
    "    'lido_avg_real_balance':32*10**9,\n",
    "    'other_avg_real_balance':32*10**9,\n",
    "    'median_EL_reward': 0\n",
    "    },\n",
    "    {\n",
    "    'name':'extreme_post_shanghai',\n",
    "    'lido_vals':100983,\n",
    "    'other_vals':205294,\n",
    "    'lido_avg_effective_balance':32*10**9,\n",
    "    'other_avg_effective_balance':32*10**9,\n",
    "    'lido_avg_real_balance':32*10**9,\n",
    "    'other_avg_real_balance':32*10**9,\n",
    "    'median_EL_reward': 0\n",
    "    }]\n"
   ]
  },
  {
   "cell_type": "markdown",
   "metadata": {
    "collapsed": false,
    "pycharm": {
     "name": "#%% md\n"
    }
   },
   "source": [
    "## Usage examples"
   ]
  },
  {
   "cell_type": "markdown",
   "metadata": {
    "collapsed": false,
    "pycharm": {
     "name": "#%% md\n"
    }
   },
   "source": [
    "*Single state simulation*"
   ]
  },
  {
   "cell_type": "code",
   "execution_count": 9,
   "metadata": {
    "collapsed": false,
    "pycharm": {
     "name": "#%%\n"
    }
   },
   "outputs": [
    {
     "data": {
      "text/plain": [
       "{'attestation_rewards': 449.2355733750852,\n",
       " 'attestation_penalties': 0.44459999999999994,\n",
       " 'proposal_reward': 66.57884845556343,\n",
       " 'sync_committee_reward': 16.6447125,\n",
       " 'sync_committee_penalty': 0.022230000000000003,\n",
       " 'initial_slashing_penalties': 200.0,\n",
       " 'correlation_slashing_penalties': 0.0,\n",
       " 'total_att_loss_for_new_slashing': 16.187392,\n",
       " 'inactivity_leak_penalty': 0,\n",
       " 'epoch_in_inactivity': 0,\n",
       " 'el_rewards': 0.0,\n",
       " 'cl_rewards': 532.4591343306486,\n",
       " 'total_rewards': 532.4591343306486,\n",
       " 'total_penalties': 200.46683,\n",
       " 'total_delta': 331.9923043306486}"
      ]
     },
     "execution_count": 9,
     "metadata": {},
     "output_type": "execute_result"
    }
   ],
   "source": [
    "calculate_oracle_report_flow(lido_down_vals=0,other_down_vals=0,lido_new_slashing=200,lido_ongoing_slashing=0,lido_midterm_slashing=0,other_ongoing_slashing=0,network_state=network_scenarios[0],epoch_in_inactivity=0)"
   ]
  },
  {
   "cell_type": "markdown",
   "metadata": {
    "collapsed": false,
    "pycharm": {
     "name": "#%% md\n"
    }
   },
   "source": [
    "*Find edge cases for all scenarios*"
   ]
  },
  {
   "cell_type": "code",
   "execution_count": 14,
   "metadata": {
    "collapsed": false,
    "pycharm": {
     "name": "#%%\n"
    }
   },
   "outputs": [
    {
     "data": {
      "text/html": [
       "<div>\n",
       "<style scoped>\n",
       "    .dataframe tbody tr th:only-of-type {\n",
       "        vertical-align: middle;\n",
       "    }\n",
       "\n",
       "    .dataframe tbody tr th {\n",
       "        vertical-align: top;\n",
       "    }\n",
       "\n",
       "    .dataframe thead th {\n",
       "        text-align: right;\n",
       "    }\n",
       "</style>\n",
       "<table border=\"1\" class=\"dataframe\">\n",
       "  <thead>\n",
       "    <tr style=\"text-align: right;\">\n",
       "      <th></th>\n",
       "      <th>expected</th>\n",
       "      <th>extreme_growth</th>\n",
       "      <th>extreme_stagnation</th>\n",
       "      <th>extreme_post_shanghai</th>\n",
       "    </tr>\n",
       "  </thead>\n",
       "  <tbody>\n",
       "    <tr>\n",
       "      <th>slashed</th>\n",
       "      <td>531</td>\n",
       "      <td>467</td>\n",
       "      <td>528</td>\n",
       "      <td>467</td>\n",
       "    </tr>\n",
       "    <tr>\n",
       "      <th>lido_down</th>\n",
       "      <td>85169</td>\n",
       "      <td>85503</td>\n",
       "      <td>82162</td>\n",
       "      <td>56798</td>\n",
       "    </tr>\n",
       "    <tr>\n",
       "      <th>lido_midterm_min</th>\n",
       "      <td>{'lido': 12, 'other': 187700}</td>\n",
       "      <td>{'lido': 13, 'other': 194200}</td>\n",
       "      <td>{'lido': 12, 'other': 174700}</td>\n",
       "      <td>{'lido': 7, 'other': 195300}</td>\n",
       "    </tr>\n",
       "    <tr>\n",
       "      <th>lido_midterm_max</th>\n",
       "      <td>{'lido': 526, 'other': 5100}</td>\n",
       "      <td>{'lido': 462, 'other': 6700}</td>\n",
       "      <td>{'lido': 522, 'other': 4800}</td>\n",
       "      <td>{'lido': 466, 'other': 2800}</td>\n",
       "    </tr>\n",
       "  </tbody>\n",
       "</table>\n",
       "</div>"
      ],
      "text/plain": [
       "                                       expected  \\\n",
       "slashed                                     531   \n",
       "lido_down                                 85169   \n",
       "lido_midterm_min  {'lido': 12, 'other': 187700}   \n",
       "lido_midterm_max   {'lido': 526, 'other': 5100}   \n",
       "\n",
       "                                 extreme_growth  \\\n",
       "slashed                                     467   \n",
       "lido_down                                 85503   \n",
       "lido_midterm_min  {'lido': 13, 'other': 194200}   \n",
       "lido_midterm_max   {'lido': 462, 'other': 6700}   \n",
       "\n",
       "                             extreme_stagnation         extreme_post_shanghai  \n",
       "slashed                                     528                           467  \n",
       "lido_down                                 82162                         56798  \n",
       "lido_midterm_min  {'lido': 12, 'other': 174700}  {'lido': 7, 'other': 195300}  \n",
       "lido_midterm_max   {'lido': 522, 'other': 4800}  {'lido': 466, 'other': 2800}  "
      ]
     },
     "execution_count": 14,
     "metadata": {},
     "output_type": "execute_result"
    }
   ],
   "source": [
    "pd.DataFrame(simulate_scenarios(network_scenarios))"
   ]
  },
  {
   "cell_type": "markdown",
   "metadata": {
    "collapsed": false,
    "pycharm": {
     "name": "#%% md\n"
    }
   },
   "source": [
    "*Find edge cases custom EL reward*"
   ]
  },
  {
   "cell_type": "code",
   "execution_count": 15,
   "metadata": {
    "collapsed": false,
    "pycharm": {
     "name": "#%%\n"
    }
   },
   "outputs": [
    {
     "data": {
      "text/html": [
       "<div>\n",
       "<style scoped>\n",
       "    .dataframe tbody tr th:only-of-type {\n",
       "        vertical-align: middle;\n",
       "    }\n",
       "\n",
       "    .dataframe tbody tr th {\n",
       "        vertical-align: top;\n",
       "    }\n",
       "\n",
       "    .dataframe thead th {\n",
       "        text-align: right;\n",
       "    }\n",
       "</style>\n",
       "<table border=\"1\" class=\"dataframe\">\n",
       "  <thead>\n",
       "    <tr style=\"text-align: right;\">\n",
       "      <th></th>\n",
       "      <th>expected</th>\n",
       "      <th>extreme_growth</th>\n",
       "      <th>extreme_stagnation</th>\n",
       "      <th>extreme_post_shanghai</th>\n",
       "    </tr>\n",
       "  </thead>\n",
       "  <tbody>\n",
       "    <tr>\n",
       "      <th>slashed</th>\n",
       "      <td>579</td>\n",
       "      <td>504</td>\n",
       "      <td>576</td>\n",
       "      <td>522</td>\n",
       "    </tr>\n",
       "    <tr>\n",
       "      <th>lido_down</th>\n",
       "      <td>88600</td>\n",
       "      <td>88468</td>\n",
       "      <td>85573</td>\n",
       "      <td>59816</td>\n",
       "    </tr>\n",
       "    <tr>\n",
       "      <th>lido_midterm_min</th>\n",
       "      <td>{'lido': 14, 'other': 173800}</td>\n",
       "      <td>{'lido': 14, 'other': 198300}</td>\n",
       "      <td>{'lido': 13, 'other': 195000}</td>\n",
       "      <td>{'lido': 9, 'other': 190300}</td>\n",
       "    </tr>\n",
       "    <tr>\n",
       "      <th>lido_midterm_max</th>\n",
       "      <td>{'lido': 570, 'other': 5100}</td>\n",
       "      <td>{'lido': 503, 'other': 6600}</td>\n",
       "      <td>{'lido': 567, 'other': 4800}</td>\n",
       "      <td>{'lido': 514, 'other': 2800}</td>\n",
       "    </tr>\n",
       "  </tbody>\n",
       "</table>\n",
       "</div>"
      ],
      "text/plain": [
       "                                       expected  \\\n",
       "slashed                                     579   \n",
       "lido_down                                 88600   \n",
       "lido_midterm_min  {'lido': 14, 'other': 173800}   \n",
       "lido_midterm_max   {'lido': 570, 'other': 5100}   \n",
       "\n",
       "                                 extreme_growth  \\\n",
       "slashed                                     504   \n",
       "lido_down                                 88468   \n",
       "lido_midterm_min  {'lido': 14, 'other': 198300}   \n",
       "lido_midterm_max   {'lido': 503, 'other': 6600}   \n",
       "\n",
       "                             extreme_stagnation         extreme_post_shanghai  \n",
       "slashed                                     576                           522  \n",
       "lido_down                                 85573                         59816  \n",
       "lido_midterm_min  {'lido': 13, 'other': 195000}  {'lido': 9, 'other': 190300}  \n",
       "lido_midterm_max   {'lido': 567, 'other': 4800}  {'lido': 514, 'other': 2800}  "
      ]
     },
     "execution_count": 15,
     "metadata": {},
     "output_type": "execute_result"
    }
   ],
   "source": [
    "pd.DataFrame(get_scenarios_EL_change(network_scenarios,0.0234*10**9))"
   ]
  },
  {
   "cell_type": "markdown",
   "metadata": {
    "collapsed": false,
    "pycharm": {
     "name": "#%% md\n"
    }
   },
   "source": [
    "*Find edge cases for scenario with given amount of Lido validators, which receive midterm slashing penalty, and network ongoing slashings*"
   ]
  },
  {
   "cell_type": "code",
   "execution_count": 16,
   "metadata": {
    "collapsed": false,
    "pycharm": {
     "name": "#%%\n"
    }
   },
   "outputs": [
    {
     "data": {
      "text/plain": [
       "{'slashed': 531,\n",
       " 'lido_down': 85169,\n",
       " 'lido_midterm_freeze_other': 640,\n",
       " 'lido_midterm_freeze_lido': 3825}"
      ]
     },
     "execution_count": 16,
     "metadata": {},
     "output_type": "execute_result"
    }
   ],
   "source": [
    "simulate_scenarios_with_freeze(network_scenario=network_scenarios[0],lido_slashed=660,other_slashed=4000)"
   ]
  },
  {
   "cell_type": "markdown",
   "metadata": {
    "collapsed": false,
    "pycharm": {
     "name": "#%% md\n"
    }
   },
   "source": [
    "*Find edge cases for scenario with given amount of Lido validators, which receive midterm slashing penalty, and network ongoing slashings and custom EL reward*"
   ]
  },
  {
   "cell_type": "code",
   "execution_count": 17,
   "metadata": {
    "collapsed": false,
    "pycharm": {
     "name": "#%%\n"
    }
   },
   "outputs": [
    {
     "data": {
      "text/plain": [
       "{'slashed': 579,\n",
       " 'lido_down': 88600,\n",
       " 'lido_midterm_freeze_other': 690,\n",
       " 'lido_midterm_freeze_lido': 4232}"
      ]
     },
     "execution_count": 17,
     "metadata": {},
     "output_type": "execute_result"
    }
   ],
   "source": [
    "get_scenarios_EL_change_with_freeze(network_scenario=network_scenarios[0],el_reward=0.0234*10**9,lido_slashed=660,other_slashed=4000)"
   ]
  },
  {
   "attachments": {},
   "cell_type": "markdown",
   "metadata": {},
   "source": [
    "### For publication"
   ]
  },
  {
   "attachments": {},
   "cell_type": "markdown",
   "metadata": {},
   "source": [
    "This section contains code and tables for publication"
   ]
  },
  {
   "cell_type": "code",
   "execution_count": 5,
   "metadata": {},
   "outputs": [],
   "source": [
    "inactivity_leak_result={\n",
    "  'expected': {'slashed': 81,\n",
    "  'lido_down': 1637,\n",
    "  'non_Lido_slashing_Lido_min': {'lido': 3, 'other': 156500},\n",
    "  'non_Lido_slashing_Lido_max': {'lido': 80, 'other': 5500}},\n",
    " 'extreme_growth': {'slashed': 70,\n",
    "  'lido_down': 1451,\n",
    "  'non_Lido_slashing_Lido_min': {'lido': 3, 'other': 175000},\n",
    "  'non_Lido_slashing_Lido_max': {'lido': 69, 'other': 7180}},\n",
    " 'extreme_stagnation': {'slashed': 79,\n",
    "  'lido_down': 1625,\n",
    "  'non_Lido_slashing_Lido_min': {'lido': 3, 'other': 149900},\n",
    "  'non_Lido_slashing_Lido_max': {'lido': 78, 'other': 5300}},\n",
    " 'extreme_post_shanghai': {'slashed': 70,\n",
    "  'lido_down': 1415,\n",
    "  'non_Lido_slashing_Lido_min': {'lido': 3, 'other': 8100},\n",
    "  'non_Lido_slashing_Lido_max': {'lido': 69, 'other': 3300}}}\n",
    "\n",
    "combination_result={\n",
    "    'expected':{\n",
    "        'lido_down':29564,\n",
    "        'others_down':30000,\n",
    "        'lido_new_slashing':124,\n",
    "        'lido_ongoing_slashing':196,\n",
    "        'lido_midterm_slashing':196,\n",
    "        'other_ongoing_slashing':4871\n",
    "    },\n",
    "    'extreme_growth':{\n",
    "        'lido_down':29564,\n",
    "        'others_down':30000,\n",
    "        'lido_new_slashing':132,\n",
    "        'lido_ongoing_slashing':186,\n",
    "        'lido_midterm_slashing':201,\n",
    "        'other_ongoing_slashing':4759\n",
    "    },\n",
    "    'extreme_stagnation':{\n",
    "        'lido_down':28564,\n",
    "        'others_down':25000,\n",
    "        'lido_new_slashing':132,\n",
    "        'lido_ongoing_slashing':175,\n",
    "        'lido_midterm_slashing':211,\n",
    "        'other_ongoing_slashing':4017\n",
    "    },\n",
    "    'extreme_post_shanghai':{\n",
    "        'lido_down':22173,\n",
    "        'others_down':25000,\n",
    "        'lido_new_slashing':98,\n",
    "        'lido_ongoing_slashing':117,\n",
    "        'lido_midterm_slashing':121,\n",
    "        'other_ongoing_slashing':3661\n",
    "    }\n",
    "}"
   ]
  },
  {
   "cell_type": "code",
   "execution_count": 8,
   "metadata": {},
   "outputs": [
    {
     "data": {
      "text/html": [
       "<style type=\"text/css\">\n",
       "</style>\n",
       "<table id=\"T_9ac0f\">\n",
       "  <caption>Output: individual params (w/o inactivity leak)</caption>\n",
       "  <thead>\n",
       "    <tr>\n",
       "      <th class=\"blank level0\" >&nbsp;</th>\n",
       "      <th id=\"T_9ac0f_level0_col0\" class=\"col_heading level0 col0\" >expected</th>\n",
       "      <th id=\"T_9ac0f_level0_col1\" class=\"col_heading level0 col1\" >extreme_growth</th>\n",
       "      <th id=\"T_9ac0f_level0_col2\" class=\"col_heading level0 col2\" >extreme_stagnation</th>\n",
       "      <th id=\"T_9ac0f_level0_col3\" class=\"col_heading level0 col3\" >extreme_post_shanghai</th>\n",
       "    </tr>\n",
       "  </thead>\n",
       "  <tbody>\n",
       "    <tr>\n",
       "      <th id=\"T_9ac0f_level0_row0\" class=\"row_heading level0 row0\" >slashed</th>\n",
       "      <td id=\"T_9ac0f_row0_col0\" class=\"data row0 col0\" >531</td>\n",
       "      <td id=\"T_9ac0f_row0_col1\" class=\"data row0 col1\" >467</td>\n",
       "      <td id=\"T_9ac0f_row0_col2\" class=\"data row0 col2\" >528</td>\n",
       "      <td id=\"T_9ac0f_row0_col3\" class=\"data row0 col3\" >467</td>\n",
       "    </tr>\n",
       "    <tr>\n",
       "      <th id=\"T_9ac0f_level0_row1\" class=\"row_heading level0 row1\" >lido_down</th>\n",
       "      <td id=\"T_9ac0f_row1_col0\" class=\"data row1 col0\" >85169</td>\n",
       "      <td id=\"T_9ac0f_row1_col1\" class=\"data row1 col1\" >85503</td>\n",
       "      <td id=\"T_9ac0f_row1_col2\" class=\"data row1 col2\" >82162</td>\n",
       "      <td id=\"T_9ac0f_row1_col3\" class=\"data row1 col3\" >56798</td>\n",
       "    </tr>\n",
       "    <tr>\n",
       "      <th id=\"T_9ac0f_level0_row2\" class=\"row_heading level0 row2\" >non_Lido_slashing_Lido_min</th>\n",
       "      <td id=\"T_9ac0f_row2_col0\" class=\"data row2 col0\" >{'lido': 12, 'other': 187700}</td>\n",
       "      <td id=\"T_9ac0f_row2_col1\" class=\"data row2 col1\" >{'lido': 13, 'other': 194200}</td>\n",
       "      <td id=\"T_9ac0f_row2_col2\" class=\"data row2 col2\" >{'lido': 12, 'other': 174700}</td>\n",
       "      <td id=\"T_9ac0f_row2_col3\" class=\"data row2 col3\" >{'lido': 7, 'other': 195300}</td>\n",
       "    </tr>\n",
       "    <tr>\n",
       "      <th id=\"T_9ac0f_level0_row3\" class=\"row_heading level0 row3\" >non_Lido_slashing_Lido_max</th>\n",
       "      <td id=\"T_9ac0f_row3_col0\" class=\"data row3 col0\" >{'lido': 526, 'other': 5100}</td>\n",
       "      <td id=\"T_9ac0f_row3_col1\" class=\"data row3 col1\" >{'lido': 462, 'other': 6700}</td>\n",
       "      <td id=\"T_9ac0f_row3_col2\" class=\"data row3 col2\" >{'lido': 522, 'other': 4800}</td>\n",
       "      <td id=\"T_9ac0f_row3_col3\" class=\"data row3 col3\" >{'lido': 466, 'other': 2800}</td>\n",
       "    </tr>\n",
       "  </tbody>\n",
       "</table>\n"
      ],
      "text/plain": [
       "<pandas.io.formats.style.Styler at 0x13820ace0>"
      ]
     },
     "execution_count": 8,
     "metadata": {},
     "output_type": "execute_result"
    }
   ],
   "source": [
    "pd.DataFrame(simulate_scenarios(network_scenarios)).style.set_caption(\"Output: individual params (w/o inactivity leak)\")"
   ]
  },
  {
   "cell_type": "code",
   "execution_count": 9,
   "metadata": {},
   "outputs": [
    {
     "data": {
      "text/html": [
       "<style type=\"text/css\">\n",
       "</style>\n",
       "<table id=\"T_28817\">\n",
       "  <caption>Output: individual params (with inactivity leak)</caption>\n",
       "  <thead>\n",
       "    <tr>\n",
       "      <th class=\"blank level0\" >&nbsp;</th>\n",
       "      <th id=\"T_28817_level0_col0\" class=\"col_heading level0 col0\" >expected</th>\n",
       "      <th id=\"T_28817_level0_col1\" class=\"col_heading level0 col1\" >extreme_growth</th>\n",
       "      <th id=\"T_28817_level0_col2\" class=\"col_heading level0 col2\" >extreme_stagnation</th>\n",
       "      <th id=\"T_28817_level0_col3\" class=\"col_heading level0 col3\" >extreme_post_shanghai</th>\n",
       "    </tr>\n",
       "  </thead>\n",
       "  <tbody>\n",
       "    <tr>\n",
       "      <th id=\"T_28817_level0_row0\" class=\"row_heading level0 row0\" >slashed</th>\n",
       "      <td id=\"T_28817_row0_col0\" class=\"data row0 col0\" >81</td>\n",
       "      <td id=\"T_28817_row0_col1\" class=\"data row0 col1\" >70</td>\n",
       "      <td id=\"T_28817_row0_col2\" class=\"data row0 col2\" >79</td>\n",
       "      <td id=\"T_28817_row0_col3\" class=\"data row0 col3\" >70</td>\n",
       "    </tr>\n",
       "    <tr>\n",
       "      <th id=\"T_28817_level0_row1\" class=\"row_heading level0 row1\" >lido_down</th>\n",
       "      <td id=\"T_28817_row1_col0\" class=\"data row1 col0\" >1637</td>\n",
       "      <td id=\"T_28817_row1_col1\" class=\"data row1 col1\" >1451</td>\n",
       "      <td id=\"T_28817_row1_col2\" class=\"data row1 col2\" >1625</td>\n",
       "      <td id=\"T_28817_row1_col3\" class=\"data row1 col3\" >1415</td>\n",
       "    </tr>\n",
       "    <tr>\n",
       "      <th id=\"T_28817_level0_row2\" class=\"row_heading level0 row2\" >non_Lido_slashing_Lido_min</th>\n",
       "      <td id=\"T_28817_row2_col0\" class=\"data row2 col0\" >{'lido': 3, 'other': 156500}</td>\n",
       "      <td id=\"T_28817_row2_col1\" class=\"data row2 col1\" >{'lido': 3, 'other': 175000}</td>\n",
       "      <td id=\"T_28817_row2_col2\" class=\"data row2 col2\" >{'lido': 3, 'other': 149900}</td>\n",
       "      <td id=\"T_28817_row2_col3\" class=\"data row2 col3\" >{'lido': 3, 'other': 8100}</td>\n",
       "    </tr>\n",
       "    <tr>\n",
       "      <th id=\"T_28817_level0_row3\" class=\"row_heading level0 row3\" >non_Lido_slashing_Lido_max</th>\n",
       "      <td id=\"T_28817_row3_col0\" class=\"data row3 col0\" >{'lido': 80, 'other': 5500}</td>\n",
       "      <td id=\"T_28817_row3_col1\" class=\"data row3 col1\" >{'lido': 69, 'other': 7180}</td>\n",
       "      <td id=\"T_28817_row3_col2\" class=\"data row3 col2\" >{'lido': 78, 'other': 5300}</td>\n",
       "      <td id=\"T_28817_row3_col3\" class=\"data row3 col3\" >{'lido': 69, 'other': 3300}</td>\n",
       "    </tr>\n",
       "  </tbody>\n",
       "</table>\n"
      ],
      "text/plain": [
       "<pandas.io.formats.style.Styler at 0x13a4fac50>"
      ]
     },
     "execution_count": 9,
     "metadata": {},
     "output_type": "execute_result"
    }
   ],
   "source": [
    "pd.DataFrame(inactivity_leak_result).style.set_caption(\"Output: individual params (with inactivity leak)\")"
   ]
  },
  {
   "cell_type": "code",
   "execution_count": 10,
   "metadata": {},
   "outputs": [
    {
     "data": {
      "text/html": [
       "<style type=\"text/css\">\n",
       "</style>\n",
       "<table id=\"T_40de0\">\n",
       "  <caption>Output: params combination (w/o inactivity leak)</caption>\n",
       "  <thead>\n",
       "    <tr>\n",
       "      <th class=\"blank level0\" >&nbsp;</th>\n",
       "      <th id=\"T_40de0_level0_col0\" class=\"col_heading level0 col0\" >expected</th>\n",
       "      <th id=\"T_40de0_level0_col1\" class=\"col_heading level0 col1\" >extreme_growth</th>\n",
       "      <th id=\"T_40de0_level0_col2\" class=\"col_heading level0 col2\" >extreme_stagnation</th>\n",
       "      <th id=\"T_40de0_level0_col3\" class=\"col_heading level0 col3\" >extreme_post_shanghai</th>\n",
       "    </tr>\n",
       "  </thead>\n",
       "  <tbody>\n",
       "    <tr>\n",
       "      <th id=\"T_40de0_level0_row0\" class=\"row_heading level0 row0\" >lido_down</th>\n",
       "      <td id=\"T_40de0_row0_col0\" class=\"data row0 col0\" >29564</td>\n",
       "      <td id=\"T_40de0_row0_col1\" class=\"data row0 col1\" >29564</td>\n",
       "      <td id=\"T_40de0_row0_col2\" class=\"data row0 col2\" >28564</td>\n",
       "      <td id=\"T_40de0_row0_col3\" class=\"data row0 col3\" >22173</td>\n",
       "    </tr>\n",
       "    <tr>\n",
       "      <th id=\"T_40de0_level0_row1\" class=\"row_heading level0 row1\" >others_down</th>\n",
       "      <td id=\"T_40de0_row1_col0\" class=\"data row1 col0\" >30000</td>\n",
       "      <td id=\"T_40de0_row1_col1\" class=\"data row1 col1\" >30000</td>\n",
       "      <td id=\"T_40de0_row1_col2\" class=\"data row1 col2\" >25000</td>\n",
       "      <td id=\"T_40de0_row1_col3\" class=\"data row1 col3\" >25000</td>\n",
       "    </tr>\n",
       "    <tr>\n",
       "      <th id=\"T_40de0_level0_row2\" class=\"row_heading level0 row2\" >lido_new_slashing</th>\n",
       "      <td id=\"T_40de0_row2_col0\" class=\"data row2 col0\" >124</td>\n",
       "      <td id=\"T_40de0_row2_col1\" class=\"data row2 col1\" >132</td>\n",
       "      <td id=\"T_40de0_row2_col2\" class=\"data row2 col2\" >132</td>\n",
       "      <td id=\"T_40de0_row2_col3\" class=\"data row2 col3\" >98</td>\n",
       "    </tr>\n",
       "    <tr>\n",
       "      <th id=\"T_40de0_level0_row3\" class=\"row_heading level0 row3\" >lido_ongoing_slashing</th>\n",
       "      <td id=\"T_40de0_row3_col0\" class=\"data row3 col0\" >196</td>\n",
       "      <td id=\"T_40de0_row3_col1\" class=\"data row3 col1\" >186</td>\n",
       "      <td id=\"T_40de0_row3_col2\" class=\"data row3 col2\" >175</td>\n",
       "      <td id=\"T_40de0_row3_col3\" class=\"data row3 col3\" >117</td>\n",
       "    </tr>\n",
       "    <tr>\n",
       "      <th id=\"T_40de0_level0_row4\" class=\"row_heading level0 row4\" >lido_midterm_slashing</th>\n",
       "      <td id=\"T_40de0_row4_col0\" class=\"data row4 col0\" >196</td>\n",
       "      <td id=\"T_40de0_row4_col1\" class=\"data row4 col1\" >201</td>\n",
       "      <td id=\"T_40de0_row4_col2\" class=\"data row4 col2\" >211</td>\n",
       "      <td id=\"T_40de0_row4_col3\" class=\"data row4 col3\" >121</td>\n",
       "    </tr>\n",
       "    <tr>\n",
       "      <th id=\"T_40de0_level0_row5\" class=\"row_heading level0 row5\" >other_ongoing_slashing</th>\n",
       "      <td id=\"T_40de0_row5_col0\" class=\"data row5 col0\" >4871</td>\n",
       "      <td id=\"T_40de0_row5_col1\" class=\"data row5 col1\" >4759</td>\n",
       "      <td id=\"T_40de0_row5_col2\" class=\"data row5 col2\" >4017</td>\n",
       "      <td id=\"T_40de0_row5_col3\" class=\"data row5 col3\" >3661</td>\n",
       "    </tr>\n",
       "  </tbody>\n",
       "</table>\n"
      ],
      "text/plain": [
       "<pandas.io.formats.style.Styler at 0x13a4fb9a0>"
      ]
     },
     "execution_count": 10,
     "metadata": {},
     "output_type": "execute_result"
    }
   ],
   "source": [
    "pd.DataFrame(combination_result).style.set_caption(\"Output: params combination (w/o inactivity leak)\")"
   ]
  }
 ],
 "metadata": {
  "kernelspec": {
   "display_name": "Python 3",
   "language": "python",
   "name": "python3"
  },
  "language_info": {
   "codemirror_mode": {
    "name": "ipython",
    "version": 3
   },
   "file_extension": ".py",
   "mimetype": "text/x-python",
   "name": "python",
   "nbconvert_exporter": "python",
   "pygments_lexer": "ipython3",
   "version": "3.10.2"
  },
  "vscode": {
   "interpreter": {
    "hash": "aee8b7b246df8f9039afb4144a1f6fd8d2ca17a180786b69acc140d282b71a49"
   }
  }
 },
 "nbformat": 4,
 "nbformat_minor": 0
}
